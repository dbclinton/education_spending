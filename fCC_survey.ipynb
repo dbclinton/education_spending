{
 "cells": [
  {
   "cell_type": "code",
   "execution_count": 1,
   "id": "f53a018a-059f-453f-a2e5-9f88cd81d25b",
   "metadata": {},
   "outputs": [],
   "source": [
    "import pandas as pd"
   ]
  },
  {
   "cell_type": "code",
   "execution_count": 2,
   "id": "2529051a-f9a6-4ead-9372-3933b0a1c472",
   "metadata": {},
   "outputs": [],
   "source": [
    "# From https://www.kaggle.com/freecodecamp/freecodecamp-2018-new-coder-survey-of-30k-devs\n",
    "# And: https://www.kaggle.com/fccuser/datasets\n",
    "df = pd.read_csv('2018-fCC-New-Coders-Survey-Data.csv')"
   ]
  },
  {
   "cell_type": "code",
   "execution_count": null,
   "id": "22c1b2f7-1ca9-46c7-a814-9f5ffca9aade",
   "metadata": {},
   "outputs": [],
   "source": [
    "df['country_live'].value_counts()"
   ]
  },
  {
   "cell_type": "code",
   "execution_count": 3,
   "id": "a1de6da8-2a40-458b-a69b-a1850dc7ac6e",
   "metadata": {},
   "outputs": [],
   "source": [
    "df = df.dropna(subset=['rsrc_fcc','country_live'])\n",
    "df = df[df['country_live'].str.contains(\"United States of America\")]"
   ]
  },
  {
   "cell_type": "markdown",
   "id": "de3836a8-905e-45a3-ac66-300035d0a4e4",
   "metadata": {},
   "source": [
    "## freeCodeCamp Users and Student Debt:"
   ]
  },
  {
   "cell_type": "code",
   "execution_count": 5,
   "id": "339c5c35-1f32-425a-8cb4-2d2d573e925c",
   "metadata": {},
   "outputs": [
    {
     "data": {
      "text/plain": [
       "count      1643.000000\n",
       "mean      36171.066951\n",
       "std       34407.760400\n",
       "min           0.000000\n",
       "25%       12000.000000\n",
       "50%       26000.000000\n",
       "75%       50000.000000\n",
       "max      200000.000000\n",
       "Name: student_debt_amt, dtype: float64"
      ]
     },
     "execution_count": 5,
     "metadata": {},
     "output_type": "execute_result"
    }
   ],
   "source": [
    "# Clean up some wild numbers from the last_yr_income column:\n",
    "df = df[df['last_yr_income'].between(0, 300000)]\n",
    "df_debt_clean = df.dropna(subset=['rsrc_fcc','country_live'])\n",
    "# Clean up some wild numbers from the student debt column:\n",
    "df_debt_clean = df_debt_clean[df_debt_clean['student_debt_amt'].between(0, 200000)]\n",
    "# Measures US-based fCC learners with or without student debt:\n",
    "df_debt_clean['student_debt_amt'].describe()"
   ]
  },
  {
   "cell_type": "markdown",
   "id": "8554640c-ab8d-440d-bb47-fd83041275ef",
   "metadata": {},
   "source": [
    "## Pluralsight users by number:"
   ]
  },
  {
   "cell_type": "code",
   "execution_count": null,
   "id": "cd559f7a-b1fd-43bc-925c-eab392c7af15",
   "metadata": {},
   "outputs": [],
   "source": [
    "df_ps = df[['rsrc_pluralsght']]"
   ]
  },
  {
   "cell_type": "code",
   "execution_count": null,
   "id": "d5a393ba-5bc4-4e3b-abda-a467e70fbbcd",
   "metadata": {},
   "outputs": [],
   "source": [
    "df_ps = df.dropna(subset=['rsrc_pluralsght'])"
   ]
  },
  {
   "cell_type": "code",
   "execution_count": null,
   "id": "2c404486-d52d-40b5-afad-f25c29731d88",
   "metadata": {},
   "outputs": [],
   "source": [
    "df_ps.shape"
   ]
  },
  {
   "cell_type": "markdown",
   "id": "6b03e6f7-9d6f-46b6-a73e-bb6e45e6142c",
   "metadata": {},
   "source": [
    "## Compare income between fCC with and without Pluralsight:"
   ]
  },
  {
   "cell_type": "code",
   "execution_count": 26,
   "id": "7e3ec976-5fb3-470e-915d-f00f5a61c54b",
   "metadata": {},
   "outputs": [
    {
     "data": {
      "text/plain": [
       "count       321.000000\n",
       "mean      52895.333333\n",
       "std       37405.964239\n",
       "min           0.000000\n",
       "25%       30000.000000\n",
       "50%       50000.000000\n",
       "75%       68000.000000\n",
       "max      300000.000000\n",
       "Name: last_yr_income, dtype: float64"
      ]
     },
     "execution_count": 26,
     "metadata": {},
     "output_type": "execute_result"
    }
   ],
   "source": [
    "df2 = df[['last_yr_income','rsrc_pluralsght','rsrc_fcc']]\n",
    "# Drop all rows that don't include both fCC and PS users:\n",
    "df3 = df2.dropna(subset=['rsrc_pluralsght','rsrc_fcc'])\n",
    "# fCC users who ALSO use PS:\n",
    "df3['last_yr_income'].describe()"
   ]
  },
  {
   "cell_type": "code",
   "execution_count": 27,
   "id": "17a1cf4f-514d-4e93-844a-cd8c0ebc9f48",
   "metadata": {},
   "outputs": [
    {
     "data": {
      "text/plain": [
       "count      3324.000000\n",
       "mean      40810.338147\n",
       "std       31476.887198\n",
       "min           0.000000\n",
       "25%       20000.000000\n",
       "50%       35000.000000\n",
       "75%       55000.000000\n",
       "max      300000.000000\n",
       "Name: last_yr_income, dtype: float64"
      ]
     },
     "execution_count": 27,
     "metadata": {},
     "output_type": "execute_result"
    }
   ],
   "source": [
    "# Just fCC users who do NOT use PS:\n",
    "df4 = df[['last_yr_income','rsrc_pluralsght','rsrc_fcc']]\n",
    "df4 = df4.loc[(df4[\"rsrc_pluralsght\"] != 1.0)]\n",
    "df4['last_yr_income'].describe()"
   ]
  },
  {
   "cell_type": "markdown",
   "id": "dc957c52-976a-40cb-abf7-a3bb3805ea06",
   "metadata": {},
   "source": [
    "## Compare income between fCC with and without Udemy:"
   ]
  },
  {
   "cell_type": "code",
   "execution_count": 24,
   "id": "9b192507-388e-4f16-95d4-b92afcc3c33b",
   "metadata": {},
   "outputs": [
    {
     "data": {
      "text/plain": [
       "count      1529.000000\n",
       "mean      44130.651406\n",
       "std       33092.788616\n",
       "min           0.000000\n",
       "25%       24000.000000\n",
       "50%       40000.000000\n",
       "75%       58000.000000\n",
       "max      300000.000000\n",
       "Name: last_yr_income, dtype: float64"
      ]
     },
     "execution_count": 24,
     "metadata": {},
     "output_type": "execute_result"
    }
   ],
   "source": [
    "df2 = df[['last_yr_income','rsrc_udemy','rsrc_fcc']]\n",
    "# Drop all rows that don't include both fCC and Udemy users:\n",
    "df3 = df2.dropna(subset=['rsrc_udemy','rsrc_fcc'])\n",
    "# fCC users who ALSO use Udemy:\n",
    "df3['last_yr_income'].describe()"
   ]
  },
  {
   "cell_type": "code",
   "execution_count": 25,
   "id": "58a73e4e-cb2b-4122-9c18-f80a8e9341ec",
   "metadata": {},
   "outputs": [
    {
     "data": {
      "text/plain": [
       "count      2116.000000\n",
       "mean      40244.423440\n",
       "std       31481.467965\n",
       "min           0.000000\n",
       "25%       20000.000000\n",
       "50%       35000.000000\n",
       "75%       55000.000000\n",
       "max      300000.000000\n",
       "Name: last_yr_income, dtype: float64"
      ]
     },
     "execution_count": 25,
     "metadata": {},
     "output_type": "execute_result"
    }
   ],
   "source": [
    "# Just fCC users who do NOT use Udemy:\n",
    "df4 = df[['last_yr_income','rsrc_udemy','rsrc_fcc']]\n",
    "df4 = df4.loc[(df4[\"rsrc_udemy\"] != 1.0)]\n",
    "df4['last_yr_income'].describe()"
   ]
  },
  {
   "cell_type": "markdown",
   "id": "779cd9f7-2a1b-4220-a01d-be05e5b9d454",
   "metadata": {},
   "source": [
    "## Compare income between fCC with and without EDx:"
   ]
  },
  {
   "cell_type": "code",
   "execution_count": 22,
   "id": "de92f57f-8480-4fe1-9033-cf1d2b68c9d6",
   "metadata": {},
   "outputs": [
    {
     "data": {
      "text/plain": [
       "count       567.000000\n",
       "mean      45909.620811\n",
       "std       35795.482583\n",
       "min           0.000000\n",
       "25%       22500.000000\n",
       "50%       40000.000000\n",
       "75%       60000.000000\n",
       "max      300000.000000\n",
       "Name: last_yr_income, dtype: float64"
      ]
     },
     "execution_count": 22,
     "metadata": {},
     "output_type": "execute_result"
    }
   ],
   "source": [
    "df2 = df[['last_yr_income','rsrc_edx','rsrc_fcc']]\n",
    "# Drop all rows that don't include both fCC and edx users:\n",
    "df3 = df2.dropna(subset=['rsrc_edx','rsrc_fcc'])\n",
    "# fCC users who ALSO use edx:\n",
    "df3['last_yr_income'].describe()"
   ]
  },
  {
   "cell_type": "code",
   "execution_count": 23,
   "id": "fab98df8-5316-4ac9-b4ff-06794378e564",
   "metadata": {},
   "outputs": [
    {
     "data": {
      "text/plain": [
       "count      3078.000000\n",
       "mean      41131.322612\n",
       "std       31466.956762\n",
       "min           0.000000\n",
       "25%       20000.000000\n",
       "50%       36000.000000\n",
       "75%       55000.000000\n",
       "max      300000.000000\n",
       "Name: last_yr_income, dtype: float64"
      ]
     },
     "execution_count": 23,
     "metadata": {},
     "output_type": "execute_result"
    }
   ],
   "source": [
    "# Just fCC users who do NOT use edx:\n",
    "df4 = df[['last_yr_income','rsrc_edx','rsrc_fcc']]\n",
    "df4 = df4.loc[(df4[\"rsrc_edx\"] != 1.0)]\n",
    "df4['last_yr_income'].describe()"
   ]
  },
  {
   "cell_type": "markdown",
   "id": "96d613d3-fb1e-4af1-9334-ecdc77c14780",
   "metadata": {},
   "source": [
    "## Compare income between fCC with and without Coursera:"
   ]
  },
  {
   "cell_type": "code",
   "execution_count": 21,
   "id": "0001f13c-6c24-44a2-ae5c-4eb518b97289",
   "metadata": {},
   "outputs": [
    {
     "data": {
      "text/plain": [
       "count       594.000000\n",
       "mean      46605.097643\n",
       "std       35074.939735\n",
       "min           0.000000\n",
       "25%       23000.000000\n",
       "50%       40000.000000\n",
       "75%       60000.000000\n",
       "max      300000.000000\n",
       "Name: last_yr_income, dtype: float64"
      ]
     },
     "execution_count": 21,
     "metadata": {},
     "output_type": "execute_result"
    }
   ],
   "source": [
    "df2 = df[['last_yr_income','rsrc_coursera','rsrc_fcc']]\n",
    "# Drop all rows that don't include both fCC and coursera users:\n",
    "df3 = df2.dropna(subset=['rsrc_coursera','rsrc_fcc'])\n",
    "# fCC users who ALSO use coursera:\n",
    "df3['last_yr_income'].describe()"
   ]
  },
  {
   "cell_type": "code",
   "execution_count": 20,
   "id": "eab7f26a-a752-457a-9e00-66cad3f47ce8",
   "metadata": {},
   "outputs": [
    {
     "data": {
      "text/plain": [
       "count      3051.000000\n",
       "mean      40953.634218\n",
       "std       31557.853104\n",
       "min           0.000000\n",
       "25%       20000.000000\n",
       "50%       36000.000000\n",
       "75%       55000.000000\n",
       "max      300000.000000\n",
       "Name: last_yr_income, dtype: float64"
      ]
     },
     "execution_count": 20,
     "metadata": {},
     "output_type": "execute_result"
    }
   ],
   "source": [
    "# Just fCC users who do NOT use edx:\n",
    "df4 = df[['last_yr_income','rsrc_coursera','rsrc_fcc']]\n",
    "df4 = df4.loc[(df4[\"rsrc_coursera\"] != 1.0)]\n",
    "df4['last_yr_income'].describe()"
   ]
  },
  {
   "cell_type": "markdown",
   "id": "3e177d2c-714c-4c82-9f41-b398598b00e9",
   "metadata": {},
   "source": [
    "## Bootcamps:"
   ]
  },
  {
   "cell_type": "code",
   "execution_count": 6,
   "id": "917c98c1-7a56-41c8-927c-65b9b565133c",
   "metadata": {},
   "outputs": [],
   "source": [
    "# Identify individuals who attended bootcamps:\n",
    "df_boot =  df.loc[(df['bootcamp_attend'] == 1.0)]\n",
    "df_no_boot =  df.loc[(df['bootcamp_attend'] != 1.0)]"
   ]
  },
  {
   "cell_type": "code",
   "execution_count": 7,
   "id": "fba2ab3c-f67d-4009-b66a-e9e15b019fdd",
   "metadata": {},
   "outputs": [
    {
     "data": {
      "text/plain": [
       "count       234.000000\n",
       "mean      39771.367521\n",
       "std       24107.196062\n",
       "min           0.000000\n",
       "25%       24000.000000\n",
       "50%       40000.000000\n",
       "75%       55000.000000\n",
       "max      154000.000000\n",
       "Name: last_yr_income, dtype: float64"
      ]
     },
     "execution_count": 7,
     "metadata": {},
     "output_type": "execute_result"
    }
   ],
   "source": [
    "df_boot['last_yr_income'].describe()"
   ]
  },
  {
   "cell_type": "code",
   "execution_count": 8,
   "id": "fd610085-fe10-4877-88c4-cce91f84ff1f",
   "metadata": {},
   "outputs": [
    {
     "data": {
      "text/plain": [
       "count      3411.000000\n",
       "mean      42018.899443\n",
       "std       32700.510047\n",
       "min           0.000000\n",
       "25%       20000.000000\n",
       "50%       36000.000000\n",
       "75%       55000.000000\n",
       "max      300000.000000\n",
       "Name: last_yr_income, dtype: float64"
      ]
     },
     "execution_count": 8,
     "metadata": {},
     "output_type": "execute_result"
    }
   ],
   "source": [
    "df_no_boot['last_yr_income'].describe()"
   ]
  },
  {
   "cell_type": "markdown",
   "id": "609c1e6e-eec1-4349-bc95-3a3bc884315f",
   "metadata": {},
   "source": [
    "## College:"
   ]
  },
  {
   "cell_type": "code",
   "execution_count": 9,
   "id": "91fb2526-bbed-442a-a073-5a0aea80f46c",
   "metadata": {},
   "outputs": [],
   "source": [
    "# Identify individuals who attended bootcamps:\n",
    "df_trade =  df.loc[(df['school_degree'] == \"trade, technical, or vocational training\")]\n",
    "df_bach = df.loc[(df['school_degree'] == \"bachelor's degree\")]\n",
    "df_pro = df.loc[(df['school_degree'] == \"professional degree (MBA, MD, JD, etc.)\")]\n",
    "#df_no_boot =  df.loc[(df['bootcamp_attend'] != 1.0)]"
   ]
  },
  {
   "cell_type": "code",
   "execution_count": null,
   "id": "6718a701-1bfa-4beb-b4b1-ee6edc8cec21",
   "metadata": {},
   "outputs": [],
   "source": [
    "df_trade.shape"
   ]
  },
  {
   "cell_type": "code",
   "execution_count": 10,
   "id": "2dd320ce-4c8e-45a3-97a5-1df5099dbbfe",
   "metadata": {},
   "outputs": [
    {
     "data": {
      "text/plain": [
       "count      3645.000000\n",
       "mean      41874.613443\n",
       "std       32219.865690\n",
       "min           0.000000\n",
       "25%       20000.000000\n",
       "50%       36000.000000\n",
       "75%       55000.000000\n",
       "max      300000.000000\n",
       "Name: last_yr_income, dtype: float64"
      ]
     },
     "execution_count": 10,
     "metadata": {},
     "output_type": "execute_result"
    }
   ],
   "source": [
    "df['last_yr_income'].describe()"
   ]
  },
  {
   "cell_type": "code",
   "execution_count": 11,
   "id": "54302c52-b512-41d0-b224-b50f5d0f1bab",
   "metadata": {},
   "outputs": [
    {
     "data": {
      "text/plain": [
       "count       137.000000\n",
       "mean      39897.978102\n",
       "std       33812.798806\n",
       "min           0.000000\n",
       "25%       20000.000000\n",
       "50%       34000.000000\n",
       "75%       50000.000000\n",
       "max      206000.000000\n",
       "Name: last_yr_income, dtype: float64"
      ]
     },
     "execution_count": 11,
     "metadata": {},
     "output_type": "execute_result"
    }
   ],
   "source": [
    "df_trade['last_yr_income'].describe()"
   ]
  },
  {
   "cell_type": "code",
   "execution_count": 12,
   "id": "f539c9cf-00f1-4086-a866-7e964d08de91",
   "metadata": {},
   "outputs": [
    {
     "data": {
      "text/plain": [
       "count      1399.000000\n",
       "mean      45818.648320\n",
       "std       31132.305912\n",
       "min           0.000000\n",
       "25%       25940.000000\n",
       "50%       40000.000000\n",
       "75%       60000.000000\n",
       "max      300000.000000\n",
       "Name: last_yr_income, dtype: float64"
      ]
     },
     "execution_count": 12,
     "metadata": {},
     "output_type": "execute_result"
    }
   ],
   "source": [
    "df_bach['last_yr_income'].describe()"
   ]
  },
  {
   "cell_type": "code",
   "execution_count": 13,
   "id": "2b64db7e-073e-490c-8961-e4ca98ca0a53",
   "metadata": {},
   "outputs": [
    {
     "data": {
      "text/plain": [
       "count       139.000000\n",
       "mean      72151.079137\n",
       "std       51436.592973\n",
       "min           0.000000\n",
       "25%       40000.000000\n",
       "50%       60000.000000\n",
       "75%       95200.000000\n",
       "max      300000.000000\n",
       "Name: last_yr_income, dtype: float64"
      ]
     },
     "execution_count": 13,
     "metadata": {},
     "output_type": "execute_result"
    }
   ],
   "source": [
    "df_pro['last_yr_income'].describe()"
   ]
  },
  {
   "cell_type": "markdown",
   "id": "1fb0470a-4ef5-4a3d-9263-a5c17072a12b",
   "metadata": {},
   "source": [
    "## Compare income between fCC with and without Lynda:"
   ]
  },
  {
   "cell_type": "code",
   "execution_count": 16,
   "id": "be4584a9-5092-4d2c-aed1-eba6d15bfcbd",
   "metadata": {},
   "outputs": [
    {
     "data": {
      "text/plain": [
       "count       580.000000\n",
       "mean      45525.743103\n",
       "std       33602.106765\n",
       "min           0.000000\n",
       "25%       25000.000000\n",
       "50%       40000.000000\n",
       "75%       60000.000000\n",
       "max      300000.000000\n",
       "Name: last_yr_income, dtype: float64"
      ]
     },
     "execution_count": 16,
     "metadata": {},
     "output_type": "execute_result"
    }
   ],
   "source": [
    "df2 = df[['last_yr_income','rsrc_lynda','rsrc_fcc']]\n",
    "# Drop all rows that don't include both fCC and Lynda users:\n",
    "df3 = df2.dropna(subset=['rsrc_lynda','rsrc_fcc'])\n",
    "#df3.shape\n",
    "# fCC users who ALSO use PS:\n",
    "df3['last_yr_income'].describe()"
   ]
  },
  {
   "cell_type": "code",
   "execution_count": 17,
   "id": "38bb93da-c02e-40d9-a667-34c792970f1d",
   "metadata": {},
   "outputs": [
    {
     "data": {
      "text/plain": [
       "count      3065.000000\n",
       "mean      41183.698206\n",
       "std       31910.262877\n",
       "min           0.000000\n",
       "25%       20000.000000\n",
       "50%       36000.000000\n",
       "75%       55000.000000\n",
       "max      300000.000000\n",
       "Name: last_yr_income, dtype: float64"
      ]
     },
     "execution_count": 17,
     "metadata": {},
     "output_type": "execute_result"
    }
   ],
   "source": [
    "# Just fCC users who do NOT use Lynda:\n",
    "df4 = df[['last_yr_income','rsrc_lynda','rsrc_fcc']]\n",
    "df4 = df4.loc[(df4[\"rsrc_lynda\"] != 1.0)]\n",
    "df4['last_yr_income'].describe()"
   ]
  },
  {
   "cell_type": "markdown",
   "id": "8504f1a5-38f9-4a19-b58b-3c11f8cb3527",
   "metadata": {},
   "source": [
    "## Compare income between fCC with and without Khan Academy:"
   ]
  },
  {
   "cell_type": "code",
   "execution_count": 14,
   "id": "1a948f9e-00ed-4e53-8bd7-077a25ad0681",
   "metadata": {},
   "outputs": [
    {
     "data": {
      "text/plain": [
       "count       816.000000\n",
       "mean      39159.852941\n",
       "std       31524.161272\n",
       "min           0.000000\n",
       "25%       19000.000000\n",
       "50%       35000.000000\n",
       "75%       53000.000000\n",
       "max      300000.000000\n",
       "Name: last_yr_income, dtype: float64"
      ]
     },
     "execution_count": 14,
     "metadata": {},
     "output_type": "execute_result"
    }
   ],
   "source": [
    "df2 = df[['last_yr_income','rsrc_khan_acdm','rsrc_fcc']]\n",
    "# Drop all rows that don't include both fCC and Khan users:\n",
    "df3 = df2.dropna(subset=['rsrc_khan_acdm','rsrc_fcc'])\n",
    "#df3.shape\n",
    "# fCC users who ALSO use PS:\n",
    "df3['last_yr_income'].describe()"
   ]
  },
  {
   "cell_type": "code",
   "execution_count": 15,
   "id": "8e034e4b-ac1c-4587-a3f6-06d3424a9627",
   "metadata": {},
   "outputs": [
    {
     "data": {
      "text/plain": [
       "count      2829.000000\n",
       "mean      42657.662071\n",
       "std       32380.970486\n",
       "min           0.000000\n",
       "25%       21000.000000\n",
       "50%       38000.000000\n",
       "75%       56000.000000\n",
       "max      300000.000000\n",
       "Name: last_yr_income, dtype: float64"
      ]
     },
     "execution_count": 15,
     "metadata": {},
     "output_type": "execute_result"
    }
   ],
   "source": [
    "# Just fCC users who do NOT use Khan Academy:\n",
    "df4 = df[['last_yr_income','rsrc_khan_acdm','rsrc_fcc']]\n",
    "df4 = df4.loc[(df4[\"rsrc_khan_acdm\"] != 1.0)]\n",
    "df4['last_yr_income'].describe()"
   ]
  }
 ],
 "metadata": {
  "kernelspec": {
   "display_name": "Python 3 (ipykernel)",
   "language": "python",
   "name": "python3"
  },
  "language_info": {
   "codemirror_mode": {
    "name": "ipython",
    "version": 3
   },
   "file_extension": ".py",
   "mimetype": "text/x-python",
   "name": "python",
   "nbconvert_exporter": "python",
   "pygments_lexer": "ipython3",
   "version": "3.8.10"
  }
 },
 "nbformat": 4,
 "nbformat_minor": 5
}
